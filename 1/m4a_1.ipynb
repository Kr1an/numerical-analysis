{
 "metadata": {
  "name": "",
  "signature": "sha256:88c8471b5df35003ea7e25f83c4f206d586275ee3873fed3618361e9cd42ec3b"
 },
 "nbformat": 3,
 "nbformat_minor": 0,
 "worksheets": [
  {
   "cells": [
    {
     "cell_type": "code",
     "collapsed": false,
     "input": [
      "from sympy import *"
     ],
     "language": "python",
     "metadata": {},
     "outputs": [],
     "prompt_number": 1
    },
    {
     "cell_type": "code",
     "collapsed": false,
     "input": [
      "x = Symbol('x')\n",
      "a1 = Symbol('a1')\n",
      "a2 = Symbol('a2')\n",
      "y = Symbol('y')\n",
      "value = Symbol('value')"
     ],
     "language": "python",
     "metadata": {},
     "outputs": [],
     "prompt_number": 2
    },
    {
     "cell_type": "code",
     "collapsed": false,
     "input": [
      "#\u043c\u0435\u0442\u043e\u0434 \u043a\u043e\u043b\u043b\u043e\u043a\u0430\u0446\u0438\u0439\n",
      "# y'' + (1+x^2)y = -1"
     ],
     "language": "python",
     "metadata": {},
     "outputs": [],
     "prompt_number": 3
    },
    {
     "cell_type": "code",
     "collapsed": false,
     "input": [
      "def collocations(y2, psi):   \n",
      "    s1 = psi.subs(value, -1/2.0)\n",
      "    s2 = psi.subs(value, 0)\n",
      "    s3 = psi.subs(value, 1/2.0)\n",
      "    print s1\n",
      "    print s2\n",
      "    print s3\n",
      "    r = linsolve([s1, s2, s3], a1, a2)\n",
      "    r1, r2 = next(iter(r))\n",
      "    print '\\ny = {} * (1 - x**2) + {} * (x**2 - x**4)'.format(r1.evalf(4), r2.evalf(4))"
     ],
     "language": "python",
     "metadata": {},
     "outputs": [],
     "prompt_number": 4
    },
    {
     "cell_type": "code",
     "collapsed": false,
     "input": [
      "y2 = (1 - x**2) * a1 + (x**2 - x**4) * a2\n",
      "\n",
      "psi = diff(y2, x, 2).subs(x, value) + (1 + value**2) * y2.subs(x, value) + 1\n",
      "\n",
      "collocations(y2, psi)"
     ],
     "language": "python",
     "metadata": {},
     "outputs": [
      {
       "output_type": "stream",
       "stream": "stdout",
       "text": [
        "-1.0625*a1 - 0.765625*a2 + 1\n",
        "-a1 + 2*a2 + 1\n",
        "-1.0625*a1 - 0.765625*a2 + 1\n",
        "\n",
        "y = 0.9568 * (1 - x**2) + -0.02162 * (x**2 - x**4)\n"
       ]
      }
     ],
     "prompt_number": 5
    },
    {
     "cell_type": "code",
     "collapsed": false,
     "input": [
      "#2\n",
      "y2 = (1 - x**2) * a1 + (x**2 - x**4) * a2\n",
      "\n",
      "psi = sin(13.0) * diff(y2, x, 2).subs(x, value) + (1 + cos(13.0) * value**2) * y2.subs(x, value) + 1\n",
      "\n",
      "collocations(y2, psi)"
     ],
     "language": "python",
     "metadata": {},
     "outputs": [
      {
       "output_type": "stream",
       "stream": "stdout",
       "text": [
        "0.0798121978686299*a1 - 0.190130468946163*a2 + 1\n",
        "0.159665926346718*a1 + 0.840334073653282*a2 + 1\n",
        "0.0798121978686299*a1 - 0.190130468946163*a2 + 1\n",
        "\n",
        "y = -10.58 * (1 - x**2) + 0.8196 * (x**2 - x**4)\n"
       ]
      }
     ],
     "prompt_number": 6
    },
    {
     "cell_type": "code",
     "collapsed": false,
     "input": [],
     "language": "python",
     "metadata": {},
     "outputs": [],
     "prompt_number": 6
    },
    {
     "cell_type": "code",
     "collapsed": false,
     "input": [
      "#\u043c\u0435\u0442\u043e\u0434 \u043d\u0430\u0438\u043c \u043a\u0432\u0430\u0434\u0440\u0430\u0442\u043e\u0432 \u0438\u043d\u0442\u0435\u0433\u0440\u0430\u043b\u044c\u043d\u044b\u0439"
     ],
     "language": "python",
     "metadata": {},
     "outputs": [],
     "prompt_number": 7
    },
    {
     "cell_type": "code",
     "collapsed": false,
     "input": [
      "def integr_mnk(y2, psi):\n",
      "    s1 = 2 * integrate(psi * diff(psi, a1), (x, -1, 1) )\n",
      "    s2 = 2 * integrate(psi * diff(psi, a2), (x, -1, 1) )\n",
      "    print s1\n",
      "    print s2\n",
      "    \n",
      "    r = linsolve([s1, s2], a1, a2)\n",
      "    r1, r2 = next(iter(r))\n",
      "    print '\\ny = {} * (1 - x**2) + {} * (x**2 - x**4)'.format(r1.evalf(4), r2.evalf(4))"
     ],
     "language": "python",
     "metadata": {},
     "outputs": [],
     "prompt_number": 8
    },
    {
     "cell_type": "code",
     "collapsed": false,
     "input": [
      "y2 = (1.0 - x**2) * a1 + (x**2 - x**4) * a2\n",
      "psi = diff(y2, x, 2) + (1 + x**2) * y2 + 1\n",
      "\n",
      "integr_mnk(y2, psi)"
     ],
     "language": "python",
     "metadata": {},
     "outputs": [
      {
       "output_type": "stream",
       "stream": "stdout",
       "text": [
        "6.04444444444444*a1 + 12.2874458874459*a2 - 4.8\n",
        "12.2874458874459*a1 + 61.9330891330891*a2 - 7.23809523809524\n",
        "\n",
        "y = 0.9327 * (1 - x**2) + -0.06818 * (x**2 - x**4)\n"
       ]
      }
     ],
     "prompt_number": 9
    },
    {
     "cell_type": "code",
     "collapsed": false,
     "input": [
      "#2\n",
      "y2 = (1.0 - x**2) * a1 + (x**2 - x**4) * a2\n",
      "psi = sin(13.0) * diff(y2, x, 2) + (1 + cos(13.0) * x**2) * y2 + 1\n",
      "\n",
      "integr_mnk(y2, psi)"
     ],
     "language": "python",
     "metadata": {},
     "outputs": [
      {
       "output_type": "stream",
       "stream": "stdout",
       "text": [
        "0.299564812155118*a1 + 1.64204955145229*a2 - 0.210698011173023\n",
        "1.64204955145229*a1 + 9.84742155021224*a2 - 2.62058655409118\n",
        "\n",
        "y = -8.786 * (1 - x**2) + 1.731 * (x**2 - x**4)\n"
       ]
      }
     ],
     "prompt_number": 10
    },
    {
     "cell_type": "code",
     "collapsed": false,
     "input": [],
     "language": "python",
     "metadata": {},
     "outputs": [],
     "prompt_number": 10
    },
    {
     "cell_type": "code",
     "collapsed": false,
     "input": [
      "#\u043c\u043d\u043a \u0434\u0438\u0441\u043a\u0440\u0435\u0442\u043d\u044b\u0439"
     ],
     "language": "python",
     "metadata": {},
     "outputs": [],
     "prompt_number": 11
    },
    {
     "cell_type": "code",
     "collapsed": false,
     "input": [
      "def mnk_discr(y2, psi):\n",
      "    s = (psi**2).subs(x, -1/2.0) + (psi**2).subs(x, 0) + (psi**2).subs(x, 1/2.0)\n",
      "    s1 = diff(s, a1)\n",
      "    s2 = diff(s, a2)\n",
      "    print s1\n",
      "    print s2\n",
      "    r = linsolve([s1, s2], a1, a2)\n",
      "    r1, r2 = next(iter(r))\n",
      "    print '\\ny = {} * (1 - x**2) + {} * (x**2 - x**4)'.format(r1.evalf(4), r2.evalf(4))"
     ],
     "language": "python",
     "metadata": {},
     "outputs": [],
     "prompt_number": 12
    },
    {
     "cell_type": "code",
     "collapsed": false,
     "input": [
      "y2 = (1 - x**2) * a1 + (x**2 - x**4) * a2\n",
      "\n",
      "psi = diff(y2, x, 2) + (1 + x**2) * y2 + 1\n",
      "\n",
      "mnk_discr(y2, psi)"
     ],
     "language": "python",
     "metadata": {},
     "outputs": [
      {
       "output_type": "stream",
       "stream": "stdout",
       "text": [
        "6.515625*a1 - 0.74609375*a2 - 6.25\n",
        "-0.74609375*a1 + 10.3447265625*a2 + 0.9375\n",
        "\n",
        "y = 0.9568 * (1 - x**2) + -0.02162 * (x**2 - x**4)\n"
       ]
      }
     ],
     "prompt_number": 13
    },
    {
     "cell_type": "code",
     "collapsed": false,
     "input": [],
     "language": "python",
     "metadata": {},
     "outputs": [],
     "prompt_number": 13
    },
    {
     "cell_type": "code",
     "collapsed": false,
     "input": [
      "#2\n",
      "y2 = (1 - x**2) * a1 + (x**2 - x**4) * a2\n",
      "\n",
      "psi = sin(13.0) * diff(y2, x, 2) + (1 + cos(13.0) * x**2) * y2 + 1\n",
      "\n",
      "mnk_discr(y2, psi)"
     ],
     "language": "python",
     "metadata": {},
     "outputs": [
      {
       "output_type": "stream",
       "stream": "stdout",
       "text": [
        "0.0764663637867966*a1 + 0.207646514187579*a2 + 0.638580644167956\n",
        "0.207646514187579*a1 + 1.55692109157219*a2 + 0.920146271521912\n",
        "\n",
        "y = -10.58 * (1 - x**2) + 0.8196 * (x**2 - x**4)\n"
       ]
      }
     ],
     "prompt_number": 14
    },
    {
     "cell_type": "code",
     "collapsed": false,
     "input": [],
     "language": "python",
     "metadata": {},
     "outputs": [],
     "prompt_number": 14
    },
    {
     "cell_type": "code",
     "collapsed": false,
     "input": [
      "#\u0413\u0430\u043b\u0435\u0440\u043a\u0438\u043d\u0430"
     ],
     "language": "python",
     "metadata": {},
     "outputs": [],
     "prompt_number": 15
    },
    {
     "cell_type": "code",
     "collapsed": false,
     "input": [
      "def galerkin(y2, psi):\n",
      "    s1 = 2 * integrate(psi * (1 - x**2), (x, -1, 1) )\n",
      "    s2 = 2 * integrate(psi * (x**2 - x**4), (x, -1, 1) )\n",
      "    print s1\n",
      "    print s2 \n",
      "    r = linsolve([s1, s2], a1, a2)\n",
      "    r1, r2 = next(iter(r))\n",
      "    print '\\ny = {} * (1 - x**2) + {} * (x**2 - x**4)'.format(r1.evalf(4), r2.evalf(4))"
     ],
     "language": "python",
     "metadata": {},
     "outputs": [],
     "prompt_number": 16
    },
    {
     "cell_type": "code",
     "collapsed": false,
     "input": [
      "y2 = (1 - x**2) * a1 + (x**2 - x**4) * a2\n",
      "\n",
      "psi = diff(y2, x, 2) + (1 + x**2) * y2 + 1\n",
      "\n",
      "galerkin(y2, psi)"
     ],
     "language": "python",
     "metadata": {},
     "outputs": [
      {
       "output_type": "stream",
       "stream": "stdout",
       "text": [
        "-304*a1/105 - 208*a2/315 + 8/3\n",
        "-208*a1/315 - 5296*a2/3465 + 8/15\n",
        "\n",
        "y = 0.9334 * (1 - x**2) + -0.05433 * (x**2 - x**4)\n"
       ]
      }
     ],
     "prompt_number": 17
    },
    {
     "cell_type": "code",
     "collapsed": false,
     "input": [
      "#2\n",
      "y2 = (1 - x**2) * a1 + (x**2 - x**4) * a2\n",
      "\n",
      "psi = sin(13.0) * diff(y2, x, 2) + (1 + cos(13.0) * x**2) * y2 + 1\n",
      "\n",
      "galerkin(y2, psi)"
     ],
     "language": "python",
     "metadata": {},
     "outputs": [
      {
       "output_type": "stream",
       "stream": "stdout",
       "text": [
        "0.168997679842737*a1 - 0.051231197991571*a2 + 2.66666666666667\n",
        "-0.0512311979915717*a1 - 0.560790379468139*a2 + 0.533333333333333\n",
        "\n",
        "y = -15.07 * (1 - x**2) + 2.328 * (x**2 - x**4)\n"
       ]
      }
     ],
     "prompt_number": 18
    },
    {
     "cell_type": "code",
     "collapsed": false,
     "input": [],
     "language": "python",
     "metadata": {},
     "outputs": [],
     "prompt_number": 2
    }
   ],
   "metadata": {}
  }
 ]
}