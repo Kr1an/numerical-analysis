{
 "metadata": {
  "name": "",
  "signature": "sha256:40884505347a577c6bde3600d55835f6b9818af51a38a55c7925838a538bbe2b"
 },
 "nbformat": 3,
 "nbformat_minor": 0,
 "worksheets": [
  {
   "cells": [
    {
     "cell_type": "code",
     "collapsed": false,
     "input": [
      "import numpy as np\n",
      "import sympy as sp\n",
      "import pandas as pd"
     ],
     "language": "python",
     "metadata": {},
     "outputs": [],
     "prompt_number": 1
    },
    {
     "cell_type": "code",
     "collapsed": false,
     "input": [
      "%pylab inline "
     ],
     "language": "python",
     "metadata": {},
     "outputs": [
      {
       "output_type": "stream",
       "stream": "stdout",
       "text": [
        "Populating the interactive namespace from numpy and matplotlib\n"
       ]
      }
     ],
     "prompt_number": 2
    },
    {
     "cell_type": "code",
     "collapsed": false,
     "input": [
      "x = sp.Symbol('x')\n",
      "t = sp.Symbol('t')"
     ],
     "language": "python",
     "metadata": {},
     "outputs": [],
     "prompt_number": 3
    },
    {
     "cell_type": "code",
     "collapsed": false,
     "input": [
      "T = 0.25\n",
      "a = 0\n",
      "b = 1\n",
      "k = 0.2\n",
      "\n",
      "s = sp.sin(x *1.0) \n",
      "#s(x) | u(x, 0) = s(x)\n",
      "g1 = 0 * t \n",
      "g2 = sp.sin(1.0 + 2 * t)\n",
      "f = 1 - x\n",
      "\n",
      "h = (b - a) / 10.0\n",
      "tetta = (h * h * k) / 2"
     ],
     "language": "python",
     "metadata": {},
     "outputs": [],
     "prompt_number": 4
    },
    {
     "cell_type": "code",
     "collapsed": false,
     "input": [
      "columns = np.arange(a, b + h, h)\n",
      "index = np.arange(0, T + tetta, tetta)\n",
      "values = pd.DataFrame(columns=range(len(columns)), index=range(len(index)))"
     ],
     "language": "python",
     "metadata": {},
     "outputs": [],
     "prompt_number": 5
    },
    {
     "cell_type": "code",
     "collapsed": false,
     "input": [
      "values.iloc[0] = [s.subs(x, i) for i in columns]\n",
      "values.iloc[:,0] = [g1.subs(t, i) for i in index]\n",
      "values.iloc[:,-1] = [g2.subs(t, i) for i in index]"
     ],
     "language": "python",
     "metadata": {},
     "outputs": [],
     "prompt_number": 6
    },
    {
     "cell_type": "code",
     "collapsed": false,
     "input": [
      "values[len(columns)-1][0] =  values[len(columns)-2][0] \n",
      "for row_pos in range(1, len(index)):\n",
      "    for col_pos in range(1, len(columns) - 1):\n",
      "        values[col_pos][row_pos] = ( \n",
      "                (tetta / (h * h)) * (values[col_pos-1][row_pos-1] + values[col_pos+1][row_pos-1]) + \n",
      "                (1 - 2 * tetta / (h * h)) * (values[col_pos][row_pos-1]) + \n",
      "                tetta * f.subs(x, columns[col_pos]) \n",
      "                )\n",
      "        values[len(columns)-1][row_pos] =  values[len(columns)-2][row_pos] "
     ],
     "language": "python",
     "metadata": {},
     "outputs": [],
     "prompt_number": 7
    },
    {
     "cell_type": "code",
     "collapsed": false,
     "input": [
      "values.applymap(lambda x: round(x, 6)).head()"
     ],
     "language": "python",
     "metadata": {},
     "outputs": [
      {
       "html": [
        "<div style=\"max-width:1500px;overflow:auto;\">\n",
        "<style>\n",
        "    .dataframe thead tr:only-child th {\n",
        "        text-align: right;\n",
        "    }\n",
        "\n",
        "    .dataframe thead th {\n",
        "        text-align: left;\n",
        "    }\n",
        "\n",
        "    .dataframe tbody tr th {\n",
        "        vertical-align: top;\n",
        "    }\n",
        "</style>\n",
        "<table border=\"1\" class=\"dataframe\">\n",
        "  <thead>\n",
        "    <tr style=\"text-align: right;\">\n",
        "      <th></th>\n",
        "      <th>0</th>\n",
        "      <th>1</th>\n",
        "      <th>2</th>\n",
        "      <th>3</th>\n",
        "      <th>4</th>\n",
        "      <th>5</th>\n",
        "      <th>6</th>\n",
        "      <th>7</th>\n",
        "      <th>8</th>\n",
        "      <th>9</th>\n",
        "      <th>10</th>\n",
        "    </tr>\n",
        "  </thead>\n",
        "  <tbody>\n",
        "    <tr>\n",
        "      <th>0</th>\n",
        "      <td>0.0</td>\n",
        "      <td>0.099833</td>\n",
        "      <td>0.198669</td>\n",
        "      <td>0.295520</td>\n",
        "      <td>0.389418</td>\n",
        "      <td>0.479426</td>\n",
        "      <td>0.564642</td>\n",
        "      <td>0.644218</td>\n",
        "      <td>0.717356</td>\n",
        "      <td>0.783327</td>\n",
        "      <td>0.783327</td>\n",
        "    </tr>\n",
        "    <tr>\n",
        "      <th>1</th>\n",
        "      <td>0.0</td>\n",
        "      <td>0.100634</td>\n",
        "      <td>0.199271</td>\n",
        "      <td>0.295925</td>\n",
        "      <td>0.389629</td>\n",
        "      <td>0.479447</td>\n",
        "      <td>0.564478</td>\n",
        "      <td>0.643874</td>\n",
        "      <td>0.716839</td>\n",
        "      <td>0.776830</td>\n",
        "      <td>0.776830</td>\n",
        "    </tr>\n",
        "    <tr>\n",
        "      <th>2</th>\n",
        "      <td>0.0</td>\n",
        "      <td>0.101334</td>\n",
        "      <td>0.199873</td>\n",
        "      <td>0.296330</td>\n",
        "      <td>0.389841</td>\n",
        "      <td>0.479468</td>\n",
        "      <td>0.564315</td>\n",
        "      <td>0.643531</td>\n",
        "      <td>0.715742</td>\n",
        "      <td>0.770931</td>\n",
        "      <td>0.770931</td>\n",
        "    </tr>\n",
        "    <tr>\n",
        "      <th>3</th>\n",
        "      <td>0.0</td>\n",
        "      <td>0.101954</td>\n",
        "      <td>0.200464</td>\n",
        "      <td>0.296735</td>\n",
        "      <td>0.390052</td>\n",
        "      <td>0.479490</td>\n",
        "      <td>0.564152</td>\n",
        "      <td>0.643130</td>\n",
        "      <td>0.714240</td>\n",
        "      <td>0.765512</td>\n",
        "      <td>0.765512</td>\n",
        "    </tr>\n",
        "    <tr>\n",
        "      <th>4</th>\n",
        "      <td>0.0</td>\n",
        "      <td>0.102510</td>\n",
        "      <td>0.201041</td>\n",
        "      <td>0.297140</td>\n",
        "      <td>0.390264</td>\n",
        "      <td>0.479512</td>\n",
        "      <td>0.563983</td>\n",
        "      <td>0.642643</td>\n",
        "      <td>0.712456</td>\n",
        "      <td>0.760485</td>\n",
        "      <td>0.760485</td>\n",
        "    </tr>\n",
        "  </tbody>\n",
        "</table>\n",
        "</div>"
       ],
       "metadata": {},
       "output_type": "pyout",
       "prompt_number": 8,
       "text": [
        "    0         1         2         3         4         5         6         7   \\\n",
        "0  0.0  0.099833  0.198669  0.295520  0.389418  0.479426  0.564642  0.644218   \n",
        "1  0.0  0.100634  0.199271  0.295925  0.389629  0.479447  0.564478  0.643874   \n",
        "2  0.0  0.101334  0.199873  0.296330  0.389841  0.479468  0.564315  0.643531   \n",
        "3  0.0  0.101954  0.200464  0.296735  0.390052  0.479490  0.564152  0.643130   \n",
        "4  0.0  0.102510  0.201041  0.297140  0.390264  0.479512  0.563983  0.642643   \n",
        "\n",
        "         8         9         10  \n",
        "0  0.717356  0.783327  0.783327  \n",
        "1  0.716839  0.776830  0.776830  \n",
        "2  0.715742  0.770931  0.770931  \n",
        "3  0.714240  0.765512  0.765512  \n",
        "4  0.712456  0.760485  0.760485  "
       ]
      }
     ],
     "prompt_number": 8
    },
    {
     "cell_type": "code",
     "collapsed": false,
     "input": [
      "x = np.arange(10)\n",
      "\n",
      "fig = plt.figure()\n",
      "ax = plt.subplot(111)\n",
      "\n",
      "for i in np.linspace(0, len(index) - 1, 10):\n",
      "    line, = ax.plot(columns, values.iloc[int(i)], label='t={}'.format(index[int(i)]))\n",
      "\n",
      "ax.legend(loc='best', bbox_to_anchor=(0.5, 1.05),\n",
      "          ncol=3, fancybox=True, shadow=True)\n",
      "plt.show()"
     ],
     "language": "python",
     "metadata": {},
     "outputs": [
      {
       "metadata": {},
       "output_type": "display_data",
       "png": "[encoded data removed]",
       "text": [
        "<matplotlib.figure.Figure at 0x7f2229766e10>"
       ]
      }
     ],
     "prompt_number": 9
    },
    {
     "cell_type": "code",
     "collapsed": false,
     "input": [
      "sum([ abs(values.iloc[-1][i] - abs(values.iloc[-2][i])) for i in range(10) ]) / 10"
     ],
     "language": "python",
     "metadata": {},
     "outputs": [
      {
       "metadata": {},
       "output_type": "pyout",
       "prompt_number": 10,
       "text": [
        "0.000434426874548340"
       ]
      }
     ],
     "prompt_number": 10
    },
    {
     "cell_type": "code",
     "collapsed": false,
     "input": [],
     "language": "python",
     "metadata": {},
     "outputs": []
    }
   ],
   "metadata": {}
  }
 ]
}