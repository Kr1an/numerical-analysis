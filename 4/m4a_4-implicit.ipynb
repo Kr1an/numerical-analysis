{
 "metadata": {
  "name": "",
  "signature": "sha256:abc48f70c1056c73f4ff5ec9ab0d2d06c6ae29176db0afabde419a597dd1bacf"
 },
 "nbformat": 3,
 "nbformat_minor": 0,
 "worksheets": [
  {
   "cells": [
    {
     "cell_type": "code",
     "collapsed": false,
     "input": [
      "import numpy as np\n",
      "import sympy as sp\n",
      "import pandas as pd"
     ],
     "language": "python",
     "metadata": {},
     "outputs": [],
     "prompt_number": 1
    },
    {
     "cell_type": "code",
     "collapsed": false,
     "input": [
      "%pylab inline "
     ],
     "language": "python",
     "metadata": {},
     "outputs": [
      {
       "output_type": "stream",
       "stream": "stdout",
       "text": [
        "Populating the interactive namespace from numpy and matplotlib\n"
       ]
      }
     ],
     "prompt_number": 2
    },
    {
     "cell_type": "code",
     "collapsed": false,
     "input": [
      "x = sp.Symbol('x')\n",
      "t = sp.Symbol('t')"
     ],
     "language": "python",
     "metadata": {},
     "outputs": [],
     "prompt_number": 3
    },
    {
     "cell_type": "code",
     "collapsed": false,
     "input": [
      "T = 0.25\n",
      "a = 0\n",
      "b = 1\n",
      "k = 0.2\n",
      "\n",
      "s = sp.sin(x *1.0) \n",
      "#s(x) | u(x, 0) = s(x)\n",
      "g1 = 0 * t \n",
      "g2 = sp.sin(1.0 + 2 * t)\n",
      "f = 1 - x\n",
      "\n",
      "h = (b - a) / 10.0\n",
      "tetta = (h * h * k) / 2"
     ],
     "language": "python",
     "metadata": {},
     "outputs": [],
     "prompt_number": 4
    },
    {
     "cell_type": "code",
     "collapsed": false,
     "input": [
      "columns = np.arange(a, b + h, h)\n",
      "index = np.arange(0, T + tetta, tetta)\n",
      "values = pd.DataFrame(columns=range(len(columns)), index=range(len(index)))"
     ],
     "language": "python",
     "metadata": {},
     "outputs": [],
     "prompt_number": 5
    },
    {
     "cell_type": "code",
     "collapsed": false,
     "input": [
      "values.iloc[0] = [s.subs(x, i) for i in columns]\n",
      "values.iloc[:,0] = [g1.subs(t, i) for i in index]\n",
      "values.iloc[:,-1] = [g2.subs(t, i) for i in index]"
     ],
     "language": "python",
     "metadata": {},
     "outputs": [],
     "prompt_number": 6
    },
    {
     "cell_type": "code",
     "collapsed": false,
     "input": [
      "values[len(columns)-1][0] =  values[len(columns)-2][0] \n",
      "for row_pos in range(1, len(index)):\n",
      "    size = len(columns) - 1\n",
      "    a_ = [tetta / h / h] * (size -2) + [0] + [0]\n",
      "    c_ = [0]+ [tetta / h / h] * (size-2) + [0]\n",
      "    b_ = [1]\n",
      "    d_ = [values[0][row_pos]]\n",
      "    for col_pos in range(1, len(columns) - 2):\n",
      "        b_.append( -(1 + 2 * tetta / h / h ))\n",
      "        d_.append(-values[col_pos][row_pos-1] - tetta * f.subs(x, columns[col_pos]))\n",
      "    b_.append(1)\n",
      "    d_.append(values[len(columns)-1][row_pos])\n",
      "\n",
      "    res = TDMA(a_, b_, c_, d_)\n",
      "    res = np.append(res, res[-1])\n",
      "    values.iloc[row_pos] = res"
     ],
     "language": "python",
     "metadata": {},
     "outputs": [],
     "prompt_number": 9
    },
    {
     "cell_type": "code",
     "collapsed": false,
     "input": [
      "values.applymap(lambda x: round(x, 6)).head()"
     ],
     "language": "python",
     "metadata": {},
     "outputs": [
      {
       "html": [
        "<div style=\"max-width:1500px;overflow:auto;\">\n",
        "<style>\n",
        "    .dataframe thead tr:only-child th {\n",
        "        text-align: right;\n",
        "    }\n",
        "\n",
        "    .dataframe thead th {\n",
        "        text-align: left;\n",
        "    }\n",
        "\n",
        "    .dataframe tbody tr th {\n",
        "        vertical-align: top;\n",
        "    }\n",
        "</style>\n",
        "<table border=\"1\" class=\"dataframe\">\n",
        "  <thead>\n",
        "    <tr style=\"text-align: right;\">\n",
        "      <th></th>\n",
        "      <th>0</th>\n",
        "      <th>1</th>\n",
        "      <th>2</th>\n",
        "      <th>3</th>\n",
        "      <th>4</th>\n",
        "      <th>5</th>\n",
        "      <th>6</th>\n",
        "      <th>7</th>\n",
        "      <th>8</th>\n",
        "      <th>9</th>\n",
        "      <th>10</th>\n",
        "    </tr>\n",
        "  </thead>\n",
        "  <tbody>\n",
        "    <tr>\n",
        "      <th>0</th>\n",
        "      <td>0.0</td>\n",
        "      <td>0.099833</td>\n",
        "      <td>0.198669</td>\n",
        "      <td>0.295520</td>\n",
        "      <td>0.389418</td>\n",
        "      <td>0.479426</td>\n",
        "      <td>0.564642</td>\n",
        "      <td>0.644218</td>\n",
        "      <td>0.717356</td>\n",
        "      <td>0.783327</td>\n",
        "      <td>0.783327</td>\n",
        "    </tr>\n",
        "    <tr>\n",
        "      <th>1</th>\n",
        "      <td>0.0</td>\n",
        "      <td>0.100550</td>\n",
        "      <td>0.199264</td>\n",
        "      <td>0.295925</td>\n",
        "      <td>0.389630</td>\n",
        "      <td>0.479450</td>\n",
        "      <td>0.564514</td>\n",
        "      <td>0.644297</td>\n",
        "      <td>0.721867</td>\n",
        "      <td>0.842550</td>\n",
        "      <td>0.842550</td>\n",
        "    </tr>\n",
        "    <tr>\n",
        "      <th>2</th>\n",
        "      <td>0.0</td>\n",
        "      <td>0.101195</td>\n",
        "      <td>0.199847</td>\n",
        "      <td>0.296328</td>\n",
        "      <td>0.389842</td>\n",
        "      <td>0.479482</td>\n",
        "      <td>0.564442</td>\n",
        "      <td>0.644680</td>\n",
        "      <td>0.725748</td>\n",
        "      <td>0.843625</td>\n",
        "      <td>0.843625</td>\n",
        "    </tr>\n",
        "    <tr>\n",
        "      <th>3</th>\n",
        "      <td>0.0</td>\n",
        "      <td>0.101781</td>\n",
        "      <td>0.200415</td>\n",
        "      <td>0.296729</td>\n",
        "      <td>0.390057</td>\n",
        "      <td>0.479526</td>\n",
        "      <td>0.564435</td>\n",
        "      <td>0.645279</td>\n",
        "      <td>0.729122</td>\n",
        "      <td>0.844698</td>\n",
        "      <td>0.844698</td>\n",
        "    </tr>\n",
        "    <tr>\n",
        "      <th>4</th>\n",
        "      <td>0.0</td>\n",
        "      <td>0.102314</td>\n",
        "      <td>0.200966</td>\n",
        "      <td>0.297128</td>\n",
        "      <td>0.390273</td>\n",
        "      <td>0.479586</td>\n",
        "      <td>0.564498</td>\n",
        "      <td>0.646031</td>\n",
        "      <td>0.732084</td>\n",
        "      <td>0.845766</td>\n",
        "      <td>0.845766</td>\n",
        "    </tr>\n",
        "  </tbody>\n",
        "</table>\n",
        "</div>"
       ],
       "metadata": {},
       "output_type": "pyout",
       "prompt_number": 10,
       "text": [
        "    0         1         2         3         4         5         6         7   \\\n",
        "0  0.0  0.099833  0.198669  0.295520  0.389418  0.479426  0.564642  0.644218   \n",
        "1  0.0  0.100550  0.199264  0.295925  0.389630  0.479450  0.564514  0.644297   \n",
        "2  0.0  0.101195  0.199847  0.296328  0.389842  0.479482  0.564442  0.644680   \n",
        "3  0.0  0.101781  0.200415  0.296729  0.390057  0.479526  0.564435  0.645279   \n",
        "4  0.0  0.102314  0.200966  0.297128  0.390273  0.479586  0.564498  0.646031   \n",
        "\n",
        "         8         9         10  \n",
        "0  0.717356  0.783327  0.783327  \n",
        "1  0.721867  0.842550  0.842550  \n",
        "2  0.725748  0.843625  0.843625  \n",
        "3  0.729122  0.844698  0.844698  \n",
        "4  0.732084  0.845766  0.845766  "
       ]
      }
     ],
     "prompt_number": 10
    },
    {
     "cell_type": "code",
     "collapsed": false,
     "input": [
      "x = np.arange(10)\n",
      "\n",
      "fig = plt.figure()\n",
      "ax = plt.subplot(111)\n",
      "\n",
      "for i in np.linspace(0, len(index) - 1, 10):\n",
      "    line, = ax.plot(columns, values.iloc[int(i)], label='t={}'.format(index[int(i)]))\n",
      "\n",
      "ax.legend(loc='best', bbox_to_anchor=(0.5, 1.05),\n",
      "          ncol=3, fancybox=True, shadow=True)\n",
      "plt.show()"
     ],
     "language": "python",
     "metadata": {},
     "outputs": [
      {
       "metadata": {},
       "output_type": "display_data",
       "png": "[encoded data removed]",
       "text": [
        "<matplotlib.figure.Figure at 0x7f4794f19250>"
       ]
      }
     ],
     "prompt_number": 11
    },
    {
     "cell_type": "code",
     "collapsed": false,
     "input": [],
     "language": "python",
     "metadata": {},
     "outputs": [],
     "prompt_number": 11
    },
    {
     "cell_type": "code",
     "collapsed": false,
     "input": [
      "def TDMA(a,b,c,d):\n",
      "    n = len(d)\n",
      "    w= np.zeros(n-1,float)\n",
      "    g= np.zeros(n, float)\n",
      "    p = np.zeros(n,float)\n",
      "\n",
      "    w[0] = c[0]/b[0]\n",
      "    g[0] = d[0]/b[0]\n",
      "\n",
      "    for i in range(1,n-1):\n",
      "        w[i] = c[i]/(b[i] - a[i-1]*w[i-1])\n",
      "    for i in range(1,n):\n",
      "        g[i] = (d[i] - a[i-1]*g[i-1])/(b[i] - a[i-1]*w[i-1])\n",
      "    p[n-1] = g[n-1]\n",
      "    for i in range(n-1,0,-1):\n",
      "        p[i-1] = g[i-1] - w[i-1]*p[i]\n",
      "    return p"
     ],
     "language": "python",
     "metadata": {},
     "outputs": [],
     "prompt_number": 12
    },
    {
     "cell_type": "code",
     "collapsed": false,
     "input": [
      "sum([ abs(values.iloc[-1][i] - abs(values.iloc[-2][i])) for i in range(10) ]) / 10"
     ],
     "language": "python",
     "metadata": {},
     "outputs": [
      {
       "metadata": {},
       "output_type": "pyout",
       "prompt_number": 13,
       "text": [
        "0.00018012469514322725"
       ]
      }
     ],
     "prompt_number": 13
    },
    {
     "cell_type": "code",
     "collapsed": false,
     "input": [],
     "language": "python",
     "metadata": {},
     "outputs": []
    }
   ],
   "metadata": {}
  }
 ]
}