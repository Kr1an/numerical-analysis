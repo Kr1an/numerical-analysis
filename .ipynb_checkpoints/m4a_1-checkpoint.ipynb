{
 "cells": [
  {
   "cell_type": "code",
   "execution_count": 1,
   "metadata": {},
   "outputs": [],
   "source": [
    "from sympy import *"
   ]
  },
  {
   "cell_type": "code",
   "execution_count": 2,
   "metadata": {},
   "outputs": [],
   "source": [
    "x = Symbol('x')\n",
    "a1 = Symbol('a1')\n",
    "a2 = Symbol('a2')\n",
    "y = Symbol('y')\n",
    "value = Symbol('value')"
   ]
  },
  {
   "cell_type": "code",
   "execution_count": 3,
   "metadata": {},
   "outputs": [],
   "source": [
    "#метод коллокаций\n",
    "# y'' + (1+x^2)y = -1"
   ]
  },
  {
   "cell_type": "code",
   "execution_count": 4,
   "metadata": {},
   "outputs": [],
   "source": [
    "def collocations(y2, psi):   \n",
    "    s1 = psi.subs(value, -1/2.0)\n",
    "    s2 = psi.subs(value, 0)\n",
    "    s3 = psi.subs(value, 1/2.0)\n",
    "    print s1\n",
    "    print s2\n",
    "    print s3\n",
    "    r = linsolve([s1, s2, s3], a1, a2)\n",
    "    r1, r2 = next(iter(r))\n",
    "    print '\\ny = {} * (1 - x**2) + {} * (x**2 - x**4)'.format(r1.evalf(4), r2.evalf(4))"
   ]
  },
  {
   "cell_type": "code",
   "execution_count": 5,
   "metadata": {},
   "outputs": [
    {
     "name": "stdout",
     "output_type": "stream",
     "text": [
      "-1.0625*a1 - 0.765625*a2 + 1\n",
      "-a1 + 2*a2 + 1\n",
      "-1.0625*a1 - 0.765625*a2 + 1\n",
      "\n",
      "y = 0.9568 * (1 - x**2) + -0.02162 * (x**2 - x**4)\n"
     ]
    }
   ],
   "source": [
    "y2 = (1 - x**2) * a1 + (x**2 - x**4) * a2\n",
    "\n",
    "psi = diff(y2, x, 2).subs(x, value) + (1 + value**2) * y2.subs(x, value) + 1\n",
    "\n",
    "collocations(y2, psi)"
   ]
  },
  {
   "cell_type": "code",
   "execution_count": 6,
   "metadata": {},
   "outputs": [
    {
     "name": "stdout",
     "output_type": "stream",
     "text": [
      "0.0798121978686299*a1 - 0.190130468946163*a2 + 1\n",
      "0.159665926346718*a1 + 0.840334073653282*a2 + 1\n",
      "0.0798121978686299*a1 - 0.190130468946163*a2 + 1\n",
      "\n",
      "y = -10.58 * (1 - x**2) + 0.8196 * (x**2 - x**4)\n"
     ]
    }
   ],
   "source": [
    "#2\n",
    "y2 = (1 - x**2) * a1 + (x**2 - x**4) * a2\n",
    "\n",
    "psi = sin(13.0) * diff(y2, x, 2).subs(x, value) + (1 + cos(13.0) * value**2) * y2.subs(x, value) + 1\n",
    "\n",
    "collocations(y2, psi)"
   ]
  },
  {
   "cell_type": "code",
   "execution_count": 6,
   "metadata": {},
   "outputs": [],
   "source": []
  },
  {
   "cell_type": "code",
   "execution_count": 7,
   "metadata": {},
   "outputs": [],
   "source": [
    "#метод наим квадратов интегральный"
   ]
  },
  {
   "cell_type": "code",
   "execution_count": 8,
   "metadata": {},
   "outputs": [],
   "source": [
    "def integr_mnk(y2, psi):\n",
    "    s1 = 2 * integrate(psi * diff(psi, a1), (x, -1, 1) )\n",
    "    s2 = 2 * integrate(psi * diff(psi, a2), (x, -1, 1) )\n",
    "    print s1\n",
    "    print s2\n",
    "    \n",
    "    r = linsolve([s1, s2], a1, a2)\n",
    "    r1, r2 = next(iter(r))\n",
    "    print '\\ny = {} * (1 - x**2) + {} * (x**2 - x**4)'.format(r1.evalf(4), r2.evalf(4))"
   ]
  },
  {
   "cell_type": "code",
   "execution_count": 9,
   "metadata": {},
   "outputs": [
    {
     "name": "stdout",
     "output_type": "stream",
     "text": [
      "6.04444444444444*a1 + 12.2874458874459*a2 - 4.8\n",
      "12.2874458874459*a1 + 61.9330891330891*a2 - 7.23809523809524\n",
      "\n",
      "y = 0.9327 * (1 - x**2) + -0.06818 * (x**2 - x**4)\n"
     ]
    }
   ],
   "source": [
    "y2 = (1.0 - x**2) * a1 + (x**2 - x**4) * a2\n",
    "psi = diff(y2, x, 2) + (1 + x**2) * y2 + 1\n",
    "\n",
    "integr_mnk(y2, psi)"
   ]
  },
  {
   "cell_type": "code",
   "execution_count": 10,
   "metadata": {},
   "outputs": [
    {
     "name": "stdout",
     "output_type": "stream",
     "text": [
      "0.299564812155118*a1 + 1.64204955145229*a2 - 0.210698011173023\n",
      "1.64204955145229*a1 + 9.84742155021224*a2 - 2.62058655409118\n",
      "\n",
      "y = -8.786 * (1 - x**2) + 1.731 * (x**2 - x**4)\n"
     ]
    }
   ],
   "source": [
    "#2\n",
    "y2 = (1.0 - x**2) * a1 + (x**2 - x**4) * a2\n",
    "psi = sin(13.0) * diff(y2, x, 2) + (1 + cos(13.0) * x**2) * y2 + 1\n",
    "\n",
    "integr_mnk(y2, psi)"
   ]
  },
  {
   "cell_type": "code",
   "execution_count": 10,
   "metadata": {},
   "outputs": [],
   "source": []
  },
  {
   "cell_type": "code",
   "execution_count": 11,
   "metadata": {},
   "outputs": [],
   "source": [
    "#мнк дискретный"
   ]
  },
  {
   "cell_type": "code",
   "execution_count": 12,
   "metadata": {},
   "outputs": [],
   "source": [
    "def mnk_discr(y2, psi):\n",
    "    s = (psi**2).subs(x, -1/2.0) + (psi**2).subs(x, 0) + (psi**2).subs(x, 1/2.0)\n",
    "    s1 = diff(s, a1)\n",
    "    s2 = diff(s, a2)\n",
    "    print s1\n",
    "    print s2\n",
    "    r = linsolve([s1, s2], a1, a2)\n",
    "    r1, r2 = next(iter(r))\n",
    "    print '\\ny = {} * (1 - x**2) + {} * (x**2 - x**4)'.format(r1.evalf(4), r2.evalf(4))"
   ]
  },
  {
   "cell_type": "code",
   "execution_count": 13,
   "metadata": {},
   "outputs": [
    {
     "name": "stdout",
     "output_type": "stream",
     "text": [
      "6.515625*a1 - 0.74609375*a2 - 6.25\n",
      "-0.74609375*a1 + 10.3447265625*a2 + 0.9375\n",
      "\n",
      "y = 0.9568 * (1 - x**2) + -0.02162 * (x**2 - x**4)\n"
     ]
    }
   ],
   "source": [
    "y2 = (1 - x**2) * a1 + (x**2 - x**4) * a2\n",
    "\n",
    "psi = diff(y2, x, 2) + (1 + x**2) * y2 + 1\n",
    "\n",
    "mnk_discr(y2, psi)"
   ]
  },
  {
   "cell_type": "code",
   "execution_count": 13,
   "metadata": {},
   "outputs": [],
   "source": []
  },
  {
   "cell_type": "code",
   "execution_count": 14,
   "metadata": {},
   "outputs": [
    {
     "name": "stdout",
     "output_type": "stream",
     "text": [
      "0.0764663637867966*a1 + 0.207646514187579*a2 + 0.638580644167956\n",
      "0.207646514187579*a1 + 1.55692109157219*a2 + 0.920146271521912\n",
      "\n",
      "y = -10.58 * (1 - x**2) + 0.8196 * (x**2 - x**4)\n"
     ]
    }
   ],
   "source": [
    "#2\n",
    "y2 = (1 - x**2) * a1 + (x**2 - x**4) * a2\n",
    "\n",
    "psi = sin(13.0) * diff(y2, x, 2) + (1 + cos(13.0) * x**2) * y2 + 1\n",
    "\n",
    "mnk_discr(y2, psi)"
   ]
  },
  {
   "cell_type": "code",
   "execution_count": 14,
   "metadata": {},
   "outputs": [],
   "source": []
  },
  {
   "cell_type": "code",
   "execution_count": 15,
   "metadata": {},
   "outputs": [],
   "source": [
    "#Галеркина"
   ]
  },
  {
   "cell_type": "code",
   "execution_count": 16,
   "metadata": {},
   "outputs": [],
   "source": [
    "def galerkin(y2, psi):\n",
    "    s1 = 2 * integrate(psi * (1 - x**2), (x, -1, 1) )\n",
    "    s2 = 2 * integrate(psi * (x**2 - x**4), (x, -1, 1) )\n",
    "    print s1\n",
    "    print s2 \n",
    "    r = linsolve([s1, s2], a1, a2)\n",
    "    r1, r2 = next(iter(r))\n",
    "    print '\\ny = {} * (1 - x**2) + {} * (x**2 - x**4)'.format(r1.evalf(4), r2.evalf(4))"
   ]
  },
  {
   "cell_type": "code",
   "execution_count": 17,
   "metadata": {},
   "outputs": [
    {
     "name": "stdout",
     "output_type": "stream",
     "text": [
      "-304*a1/105 - 208*a2/315 + 8/3\n",
      "-208*a1/315 - 5296*a2/3465 + 8/15\n",
      "\n",
      "y = 0.9334 * (1 - x**2) + -0.05433 * (x**2 - x**4)\n"
     ]
    }
   ],
   "source": [
    "y2 = (1 - x**2) * a1 + (x**2 - x**4) * a2\n",
    "\n",
    "psi = diff(y2, x, 2) + (1 + x**2) * y2 + 1\n",
    "\n",
    "galerkin(y2, psi)"
   ]
  },
  {
   "cell_type": "code",
   "execution_count": 18,
   "metadata": {},
   "outputs": [
    {
     "name": "stdout",
     "output_type": "stream",
     "text": [
      "0.168997679842737*a1 - 0.051231197991571*a2 + 2.66666666666667\n",
      "-0.0512311979915717*a1 - 0.560790379468139*a2 + 0.533333333333333\n",
      "\n",
      "y = -15.07 * (1 - x**2) + 2.328 * (x**2 - x**4)\n"
     ]
    }
   ],
   "source": [
    "#2\n",
    "y2 = (1 - x**2) * a1 + (x**2 - x**4) * a2\n",
    "\n",
    "psi = sin(13.0) * diff(y2, x, 2) + (1 + cos(13.0) * x**2) * y2 + 1\n",
    "\n",
    "galerkin(y2, psi)"
   ]
  },
  {
   "cell_type": "code",
   "execution_count": 2,
   "metadata": {},
   "outputs": [],
   "source": []
  }
 ],
 "metadata": {
  "kernelspec": {
   "display_name": "Python 2",
   "language": "python",
   "name": "python2"
  },
  "language_info": {
   "codemirror_mode": {
    "name": "ipython",
    "version": 2
   },
   "file_extension": ".py",
   "mimetype": "text/x-python",
   "name": "python",
   "nbconvert_exporter": "python",
   "pygments_lexer": "ipython2",
   "version": "2.7.13"
  }
 },
 "nbformat": 4,
 "nbformat_minor": 1
}
