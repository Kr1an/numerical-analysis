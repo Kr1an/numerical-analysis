{
 "cells": [
  {
   "cell_type": "code",
   "execution_count": 1,
   "metadata": {},
   "outputs": [
    {
     "ename": "ImportError",
     "evalue": "No module named numpy",
     "output_type": "error",
     "traceback": [
      "\u001b[0;31m---------------------------------------------------------------------------\u001b[0m",
      "\u001b[0;31mImportError\u001b[0m                               Traceback (most recent call last)",
      "\u001b[0;32m<ipython-input-1-b8d630cfaa41>\u001b[0m in \u001b[0;36m<module>\u001b[0;34m()\u001b[0m\n\u001b[0;32m----> 1\u001b[0;31m \u001b[0;32mimport\u001b[0m \u001b[0mnumpy\u001b[0m \u001b[0;32mas\u001b[0m \u001b[0mnp\u001b[0m\u001b[0;34m\u001b[0m\u001b[0m\n\u001b[0m\u001b[1;32m      2\u001b[0m \u001b[0;32mfrom\u001b[0m \u001b[0msympy\u001b[0m \u001b[0;32mimport\u001b[0m \u001b[0;34m*\u001b[0m\u001b[0;34m\u001b[0m\u001b[0m\n",
      "\u001b[0;31mImportError\u001b[0m: No module named numpy"
     ]
    }
   ],
   "source": [
    "import numpy as np\n",
    "from sympy import *"
   ]
  },
  {
   "cell_type": "code",
   "execution_count": 140,
   "metadata": {},
   "outputs": [
    {
     "name": "stdout",
     "output_type": "stream",
     "text": [
      "Populating the interactive namespace from numpy and matplotlib\n"
     ]
    },
    {
     "name": "stderr",
     "output_type": "stream",
     "text": [
      "WARNING: pylab import has clobbered these variables: ['prod', 'cosh', 'Circle', 'power', 'diag', 'sinh', 'trunc', 'binomial', 'plot', 'eye', 'f', 'det', 'tan', 'product', 'gamma', 'roots', 'sin', 'plotting', 'Line2D', 'deprecated', 'array', 'zeros', 'conjugate', 'take', 'trace', 'beta', 'ones', 'vectorize', 'cos', 'interactive', 'transpose', 'solve', 'diff', 'invert', 'sinc', 'tanh', 'Polygon', 'reshape', 'sqrt', 'source', 'add', 'cbrt', 'multinomial', 'test', 'poly', 'mod', 'sign', 'log', 'var', 'seterr', 'flatten', 'floor', 'nan', 'pi', 'exp']\n",
      "`%matplotlib` prevents importing * from pylab and numpy\n"
     ]
    }
   ],
   "source": [
    "%pylab inline "
   ]
  },
  {
   "cell_type": "code",
   "execution_count": 140,
   "metadata": {},
   "outputs": [],
   "source": []
  },
  {
   "cell_type": "code",
   "execution_count": 156,
   "metadata": {},
   "outputs": [],
   "source": [
    "def approx(h_):\n",
    "    x = []\n",
    "    y = []\n",
    "    h = h_\n",
    "    for i, v in enumerate(np.arange(-1, 1+h, h)):\n",
    "        x.append(v)\n",
    "        y.append(Symbol('y{}'.format(i)))\n",
    "\n",
    "    s = []\n",
    "    for i in range(1, len(x)-1):\n",
    "        s.append(   sin(13)*(y[i+1] - 2 * y[i] + y[i-1]) / (h**2) + (1 +  cos(13) * (x[i]**2)) * y[i] + 1 )\n",
    "    s.append(y[0])\n",
    "    s.append(y[-1])\n",
    "    #print s, y\n",
    "    sol = next(iter(linsolve(s, y)))\n",
    "    return x, sol"
   ]
  },
  {
   "cell_type": "code",
   "execution_count": 162,
   "metadata": {},
   "outputs": [
    {
     "name": "stdout",
     "output_type": "stream",
     "text": [
      "iteration 2\n",
      "precision 10.0231569155907\n",
      "h 0.25\n",
      "iteration 3\n",
      "precision 9.07567479925967\n",
      "h 0.125\n",
      "iteration 4\n",
      "precision 8.06219670832327\n",
      "h 0.0625\n",
      "iteration 5\n",
      "precision 4.77901798638226\n",
      "h 0.03125\n",
      "iteration 6\n",
      "precision 2.49956021039724\n",
      "h 0.015625\n",
      "iteration 6\n",
      "precision 2.49956021039724\n",
      "h 0.015625\n",
      "iteration 7\n",
      "precision 1.26414778106551\n",
      "h 0.0078125\n"
     ]
    }
   ],
   "source": [
    "precision = 1\n",
    "h = 0.5\n",
    "x, y = approx(1)\n",
    "\n",
    "iter_num = 1\n",
    "while  precision > 0.01:\n",
    "    x_new, y_new = approx(h)\n",
    "    precision = sum([ abs(y_new[2*i] - y[i]) for i in range(len(y))])\n",
    "    x, y = x_new, y_new\n",
    "    h /= 2\n",
    "    iter_num += 1\n",
    "    print 'iteration', iter_num\n",
    "    print 'precision', precision\n",
    "    print 'h', h\n"
   ]
  },
  {
   "cell_type": "code",
   "execution_count": 164,
   "metadata": {},
   "outputs": [
    {
     "data": {
      "text/plain": [
       "<matplotlib.collections.PathCollection at 0x7effe145d150>"
      ]
     },
     "execution_count": 164,
     "metadata": {},
     "output_type": "execute_result"
    },
    {
     "data": {
      "image/png": "[encoded data removed]",
      "text/plain": [
       "<matplotlib.figure.Figure at 0x7effe14a0b50>"
      ]
     },
     "metadata": {},
     "output_type": "display_data"
    }
   ],
   "source": [
    "pylab.scatter(x, y, color='red')\n"
   ]
  },
  {
   "cell_type": "code",
   "execution_count": 151,
   "metadata": {},
   "outputs": [
    {
     "name": "stdout",
     "output_type": "stream",
     "text": [
      "0.0078125\n"
     ]
    }
   ],
   "source": [
    "print h\n"
   ]
  }
 ],
 "metadata": {
  "kernelspec": {
   "display_name": "Python 2",
   "language": "python",
   "name": "python2"
  },
  "language_info": {
   "codemirror_mode": {
    "name": "ipython",
    "version": 2
   },
   "file_extension": ".py",
   "mimetype": "text/x-python",
   "name": "python",
   "nbconvert_exporter": "python",
   "pygments_lexer": "ipython2",
   "version": "2.7.13"
  }
 },
 "nbformat": 4,
 "nbformat_minor": 1
}
