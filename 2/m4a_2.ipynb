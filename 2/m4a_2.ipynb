{
 "cells": [
  {
   "cell_type": "code",
   "execution_count": null,
   "metadata": {},
   "outputs": [],
   "source": [
    "import numpy as np\n",
    "from sympy import *"
   ]
  },
  {
   "cell_type": "code",
   "execution_count": null,
   "metadata": {},
   "outputs": [],
   "source": [
    "%pylab inline "
   ]
  },
  {
   "cell_type": "code",
   "execution_count": null,
   "metadata": {},
   "outputs": [],
   "source": []
  },
  {
   "cell_type": "code",
   "execution_count": null,
   "metadata": {},
   "outputs": [],
   "source": [
    "def approx(h_):\n",
    "    x = []\n",
    "    y = []\n",
    "    h = h_\n",
    "    for i, v in enumerate(np.arange(-1, 1+h, h)):\n",
    "        x.append(v)\n",
    "        y.append(Symbol('y{}'.format(i)))\n",
    "\n",
    "    s = []\n",
    "    for i in range(1, len(x)-1):\n",
    "        s.append(   sin(13)*(y[i+1] - 2 * y[i] + y[i-1]) / (h**2) + (1 +  cos(13) * (x[i]**2)) * y[i] + 1 )\n",
    "    s.append(y[0])\n",
    "    s.append(y[-1])\n",
    "    #print s, y\n",
    "    sol = next(iter(linsolve(s, y)))\n",
    "    return x, sol"
   ]
  },
  {
   "cell_type": "code",
   "execution_count": null,
   "metadata": {},
   "outputs": [],
   "source": [
    "precision = 1\n",
    "h = 0.5\n",
    "x, y = approx(1)\n",
    "\n",
    "iter_num = 1\n",
    "while  precision > 0.01:\n",
    "    x_new, y_new = approx(h)\n",
    "    precision = sum([ abs(y_new[2*i] - y[i]) for i in range(len(y))])\n",
    "    x, y = x_new, y_new\n",
    "    h /= 2\n",
    "    iter_num += 1\n",
    "    print 'iteration', iter_num\n",
    "    print 'precision', precision\n",
    "    print 'h', h\n"
   ]
  },
  {
   "cell_type": "code",
   "execution_count": null,
   "metadata": {},
   "outputs": [],
   "source": [
    "pylab.scatter(x, y, color='red')\n"
   ]
  },
  {
   "cell_type": "code",
   "execution_count": null,
   "metadata": {},
   "outputs": [],
   "source": [
    "print h\n"
   ]
  },
  {
   "cell_type": "code",
   "execution_count": null,
   "metadata": {},
   "outputs": [],
   "source": []
  },
  {
   "cell_type": "code",
   "execution_count": null,
   "metadata": {},
   "outputs": [],
   "source": []
  }
 ],
 "metadata": {
  "kernelspec": {
   "display_name": "Python 2",
   "language": "python",
   "name": "python2"
  }
 },
 "nbformat": 4,
 "nbformat_minor": 1
}
